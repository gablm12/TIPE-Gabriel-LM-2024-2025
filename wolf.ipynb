{
 "cells": [
  {
   "cell_type": "code",
   "execution_count": null,
   "metadata": {},
   "outputs": [
    {
     "name": "stdout",
     "output_type": "stream",
     "text": [
      "📏 Chemin entre 'animal' et 'chien':\n",
      "\n",
      "🔹 Synset eng-30-00015388-n → animal, bête, créature, faune, être\n",
      "🔹 Synset eng-30-01317541-n → animal domestique\n",
      "🔹 Synset eng-30-02084071-n → canis familiaris, chien\n"
     ]
    }
   ],
   "source": [
    "#CODE QUI DONNE LE CHEMIN ET LA LONGUEUR ENTRE DEUX MOTS\n",
    "\n",
    "\n",
    "import xml.etree.ElementTree as ET\n",
    "import networkx as nx\n",
    "\n",
    "xml_file = r\"C:\\Users\\jokle\\Downloads\\wolf.xml\"\n",
    "tree = ET.parse(xml_file) \n",
    "root = tree.getroot()\n",
    "\n",
    "# Définition des mots à relier\n",
    "word1 = \"animal\"\n",
    "word2 = \"chien\"\n",
    "\n",
    "synsets1 = get_synsets_for_word(word1)\n",
    "synsets2 = get_synsets_for_word(word2)\n",
    "\n",
    "# Trouver le plus court chemin et afficher le détail\n",
    "if synsets1 and synsets2:\n",
    "    try:\n",
    "        shortest_path = nx.shortest_path(G, source=synsets1[0], target=synsets2[0])\n",
    "        print(f\" Chemin entre '{word1}' et '{word2}':\\n\")\n",
    "        \n",
    "        for synset_id in shortest_path:\n",
    "            words = get_words_from_synset(synset_id)\n",
    "            print(f\" Synset {synset_id} → {', '.join(words) if words else 'Aucun mot'}\")\n",
    "        \n",
    "    except nx.NetworkXNoPath:\n",
    "        print(f\" Aucun chemin trouvé entre '{word1}' et '{word2}'.\")\n",
    "else:\n",
    "    print(\" Un des mots n'existe pas dans WOLF.\")\n"
   ]
  },
  {
   "cell_type": "code",
   "execution_count": 88,
   "metadata": {},
   "outputs": [],
   "source": [
    "#CODE QUI PASSE DE MOT A SYNSET ET INVERSE\n",
    "\n",
    "def get_synsets_for_word(word):\n",
    "    synsets = []\n",
    "    for synset in root.findall(\".//SYNSET\"):\n",
    "        for synonym in synset.findall(\".//SYNONYM\"):\n",
    "            for literal in synonym.findall(\"LITERAL\"):\n",
    "                if literal.text and literal.text.lower() == word.lower():\n",
    "                    synsets.append(synset.find(\"ID\").text)\n",
    "    return synsets\n",
    "\n",
    "def get_words_from_synset(synset_id):\n",
    "    words = []\n",
    "    for synset in root.findall(\".//SYNSET\"):\n",
    "        if synset.find(\"ID\") is not None and synset.find(\"ID\").text == synset_id:\n",
    "            for synonym in synset.findall(\".//SYNONYM\"):\n",
    "                for literal in synonym.findall(\"LITERAL\"):\n",
    "                    words.append(literal.text)\n",
    "    return words"
   ]
  },
  {
   "cell_type": "code",
   "execution_count": null,
   "metadata": {},
   "outputs": [],
   "source": [
    "#CREE LE GRAPHE\n",
    "\n",
    "G = nx.DiGraph()\n",
    "\n",
    "for synset in root.findall(\".//SYNSET\"):\n",
    "    synset_id = synset.find(\"ID\").text\n",
    "    for ilr in synset.findall(\".//ILR\"):\n",
    "        if ilr.get(\"type\") == \"hypernym\":  # Utiliser uniquement les relations hypernymes\n",
    "            G.add_edge(synset_id, ilr.text)\n",
    "\n",
    "# Probleme de cycle : le code tourne à l'infini \n",
    "if not nx.is_directed_acyclic_graph(G):\n",
    "    print(\" Le graphe contient des cycles\")\n",
    "    G = nx.DiGraph(nx.DiGraph(G).reverse())  # Essayer d'inverser certaines relations\n",
    "    G = nx.DiGraph([(u, v) for u, v in nx.edge_dfs(G) if u != v])  # Supprimer les boucles\n"
   ]
  },
  {
   "cell_type": "code",
   "execution_count": null,
   "metadata": {},
   "outputs": [
    {
     "name": "stdout",
     "output_type": "stream",
     "text": [
      "⚠️ Le graphe contient des cycles, tentative de correction...\n",
      "🌲 La hauteur de l'arbre à partir de eng-30-02377181-n (entité) est : 1 niveaux.\n"
     ]
    }
   ],
   "source": [
    "#CODE QUI DONNE LA HAUTEUR DU GRAPHE A PARTIR D'UN MOT\n",
    "\n",
    "def get_tree_height_from_synset(G, synset_id):\n",
    "    # On vérifie si le synset existe dans le graphe\n",
    "    if synset_id not in G.nodes:\n",
    "        print(f\" Le synset {synset_id} n'existe pas dans le graphe.\")\n",
    "        return None\n",
    "    \n",
    "    # Effectue une recherche de la profondeur maximale\n",
    "    longest_path_length = 0\n",
    "    for node in G.nodes:\n",
    "        if nx.has_path(G, synset_id, node):  # Si un chemin existe entre le synset et ce nœud\n",
    "            path_length = nx.shortest_path_length(G, synset_id, node)\n",
    "            longest_path_length = max(longest_path_length, path_length)\n",
    "    \n",
    "    return longest_path_length\n",
    "\n",
    "#utilisation\n",
    "synset_entite = get_synset_for_word('étalon')[0]  \n",
    "height = get_tree_height_from_synset(G, synset_entite)\n",
    "\n",
    "if height is not None:\n",
    "    print(f\" La hauteur de l'arbre à partir de {synset_entite} (entité) est : {height} niveaux.\")\n",
    "\n"
   ]
  }
 ],
 "metadata": {
  "kernelspec": {
   "display_name": "Python 3",
   "language": "python",
   "name": "python3"
  },
  "language_info": {
   "codemirror_mode": {
    "name": "ipython",
    "version": 3
   },
   "file_extension": ".py",
   "mimetype": "text/x-python",
   "name": "python",
   "nbconvert_exporter": "python",
   "pygments_lexer": "ipython3",
   "version": "3.12.9"
  }
 },
 "nbformat": 4,
 "nbformat_minor": 2
}
